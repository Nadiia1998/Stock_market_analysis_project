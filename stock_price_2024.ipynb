{
 "cells": [
  {
   "cell_type": "code",
   "execution_count": 79,
   "id": "1d08cf1c-ef7c-46c8-ae61-900905ccb24b",
   "metadata": {},
   "outputs": [
    {
     "name": "stderr",
     "output_type": "stream",
     "text": [
      "C:\\Users\\HP\\AppData\\Local\\Temp\\ipykernel_6592\\2319185679.py:8: FutureWarning: YF.download() has changed argument auto_adjust default to True\n",
      "  data = yf.download(tickers, start=\"2024-03-01\", end=\"2025-01-01\")[['Open','Close']]\n",
      "[*********************100%***********************]  14 of 14 completed\n"
     ]
    }
   ],
   "source": [
    "import yfinance as yf\n",
    "import pandas as pd\n",
    "\n",
    "# list of company;\n",
    "tickers = ['V','MU','GOOG','META','CRWD','PYPL','VICI','AAPL','PLD','PDD','MED','ADBE','CSCO','VUAA.L']\n",
    "\n",
    "# load data from Yahoo Finance;\n",
    "data = yf.download(tickers, start=\"2024-03-01\", end=\"2025-01-01\")[['Open','Close']]\n",
    "\n"
   ]
  },
  {
   "cell_type": "code",
   "execution_count": 81,
   "id": "0d6a29b7-c28e-46be-8b3c-330daede94c8",
   "metadata": {},
   "outputs": [],
   "source": [
    "data=data.stack(level=1, future_stack=True).reset_index()\n",
    "data.columns=['Date',\t'Ticker',\t'Open',\t'Close']"
   ]
  },
  {
   "cell_type": "code",
   "execution_count": 83,
   "id": "ab343b2f-047b-4e3b-92b9-b7aee5509633",
   "metadata": {},
   "outputs": [
    {
     "data": {
      "text/html": [
       "<div>\n",
       "<style scoped>\n",
       "    .dataframe tbody tr th:only-of-type {\n",
       "        vertical-align: middle;\n",
       "    }\n",
       "\n",
       "    .dataframe tbody tr th {\n",
       "        vertical-align: top;\n",
       "    }\n",
       "\n",
       "    .dataframe thead th {\n",
       "        text-align: right;\n",
       "    }\n",
       "</style>\n",
       "<table border=\"1\" class=\"dataframe\">\n",
       "  <thead>\n",
       "    <tr style=\"text-align: right;\">\n",
       "      <th></th>\n",
       "      <th>Date</th>\n",
       "      <th>Ticker</th>\n",
       "      <th>Open</th>\n",
       "      <th>Close</th>\n",
       "    </tr>\n",
       "  </thead>\n",
       "  <tbody>\n",
       "    <tr>\n",
       "      <th>0</th>\n",
       "      <td>2024-03-01</td>\n",
       "      <td>AAPL</td>\n",
       "      <td>178.269812</td>\n",
       "      <td>178.379028</td>\n",
       "    </tr>\n",
       "    <tr>\n",
       "      <th>1</th>\n",
       "      <td>2024-03-01</td>\n",
       "      <td>ADBE</td>\n",
       "      <td>561.109985</td>\n",
       "      <td>570.929993</td>\n",
       "    </tr>\n",
       "    <tr>\n",
       "      <th>2</th>\n",
       "      <td>2024-03-01</td>\n",
       "      <td>CRWD</td>\n",
       "      <td>319.250000</td>\n",
       "      <td>314.600006</td>\n",
       "    </tr>\n",
       "    <tr>\n",
       "      <th>3</th>\n",
       "      <td>2024-03-01</td>\n",
       "      <td>CSCO</td>\n",
       "      <td>46.051873</td>\n",
       "      <td>46.329468</td>\n",
       "    </tr>\n",
       "    <tr>\n",
       "      <th>4</th>\n",
       "      <td>2024-03-01</td>\n",
       "      <td>GOOG</td>\n",
       "      <td>138.661110</td>\n",
       "      <td>137.141510</td>\n",
       "    </tr>\n",
       "  </tbody>\n",
       "</table>\n",
       "</div>"
      ],
      "text/plain": [
       "        Date Ticker        Open       Close\n",
       "0 2024-03-01   AAPL  178.269812  178.379028\n",
       "1 2024-03-01   ADBE  561.109985  570.929993\n",
       "2 2024-03-01   CRWD  319.250000  314.600006\n",
       "3 2024-03-01   CSCO   46.051873   46.329468\n",
       "4 2024-03-01   GOOG  138.661110  137.141510"
      ]
     },
     "execution_count": 83,
     "metadata": {},
     "output_type": "execute_result"
    }
   ],
   "source": [
    "data.head()"
   ]
  },
  {
   "cell_type": "code",
   "execution_count": 87,
   "id": "61906b1e-02ee-4351-b561-3ba479872a57",
   "metadata": {},
   "outputs": [],
   "source": [
    "data.to_csv(\"stock_prices_2024.csv\",index=False)"
   ]
  }
 ],
 "metadata": {
  "kernelspec": {
   "display_name": "Python 3 (ipykernel)",
   "language": "python",
   "name": "python3"
  },
  "language_info": {
   "codemirror_mode": {
    "name": "ipython",
    "version": 3
   },
   "file_extension": ".py",
   "mimetype": "text/x-python",
   "name": "python",
   "nbconvert_exporter": "python",
   "pygments_lexer": "ipython3",
   "version": "3.12.7"
  }
 },
 "nbformat": 4,
 "nbformat_minor": 5
}
